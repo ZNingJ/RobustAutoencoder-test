{
 "cells": [
  {
   "cell_type": "code",
   "execution_count": 1,
   "metadata": {},
   "outputs": [
    {
     "name": "stderr",
     "output_type": "stream",
     "text": [
      "D:\\SoftWare\\Python\\envs\\py_env_36\\lib\\site-packages\\tensorflow\\python\\framework\\dtypes.py:517: FutureWarning: Passing (type, 1) or '1type' as a synonym of type is deprecated; in a future version of numpy, it will be understood as (type, (1,)) / '(1,)type'.\n",
      "  _np_qint8 = np.dtype([(\"qint8\", np.int8, 1)])\n",
      "D:\\SoftWare\\Python\\envs\\py_env_36\\lib\\site-packages\\tensorflow\\python\\framework\\dtypes.py:518: FutureWarning: Passing (type, 1) or '1type' as a synonym of type is deprecated; in a future version of numpy, it will be understood as (type, (1,)) / '(1,)type'.\n",
      "  _np_quint8 = np.dtype([(\"quint8\", np.uint8, 1)])\n",
      "D:\\SoftWare\\Python\\envs\\py_env_36\\lib\\site-packages\\tensorflow\\python\\framework\\dtypes.py:519: FutureWarning: Passing (type, 1) or '1type' as a synonym of type is deprecated; in a future version of numpy, it will be understood as (type, (1,)) / '(1,)type'.\n",
      "  _np_qint16 = np.dtype([(\"qint16\", np.int16, 1)])\n",
      "D:\\SoftWare\\Python\\envs\\py_env_36\\lib\\site-packages\\tensorflow\\python\\framework\\dtypes.py:520: FutureWarning: Passing (type, 1) or '1type' as a synonym of type is deprecated; in a future version of numpy, it will be understood as (type, (1,)) / '(1,)type'.\n",
      "  _np_quint16 = np.dtype([(\"quint16\", np.uint16, 1)])\n",
      "D:\\SoftWare\\Python\\envs\\py_env_36\\lib\\site-packages\\tensorflow\\python\\framework\\dtypes.py:521: FutureWarning: Passing (type, 1) or '1type' as a synonym of type is deprecated; in a future version of numpy, it will be understood as (type, (1,)) / '(1,)type'.\n",
      "  _np_qint32 = np.dtype([(\"qint32\", np.int32, 1)])\n",
      "D:\\SoftWare\\Python\\envs\\py_env_36\\lib\\site-packages\\tensorflow\\python\\framework\\dtypes.py:526: FutureWarning: Passing (type, 1) or '1type' as a synonym of type is deprecated; in a future version of numpy, it will be understood as (type, (1,)) / '(1,)type'.\n",
      "  np_resource = np.dtype([(\"resource\", np.ubyte, 1)])\n"
     ]
    },
    {
     "name": "stdout",
     "output_type": "stream",
     "text": [
      "[0.0001, 0.0003, 0.0008, 0.001, 0.0015, 0.00035, 0.00045, 0.00055, 0.00065, 0.00075, 0.00085, 0.00095, 0.00105, 0.00115, 0.00125]\n",
      "start\n",
      "done: lam 0.0001\n",
      "done: lam 0.0003\n",
      "done: lam 0.0008\n",
      "done: lam 0.001\n",
      "done: lam 0.0015\n",
      "done: lam 0.00035\n",
      "done: lam 0.00045\n",
      "done: lam 0.00055\n",
      "done: lam 0.00065\n",
      "done: lam 0.00075\n",
      "done: lam 0.00085\n",
      "done: lam 0.00095\n",
      "done: lam 0.00105\n",
      "done: lam 0.00115\n",
      "done: lam 0.00125\n",
      "Runing time:5463.8517537117 s\n"
     ]
    }
   ],
   "source": [
    "import PIL.Image as Image\n",
    "import numpy as np\n",
    "import tensorflow as tf\n",
    "import os\n",
    "import time\n",
    "\n",
    "import sys\n",
    "sys.path.append(\"../../model\")\n",
    "import l21RobustDeepAutoencoderOnST as l21RDA\n",
    "\n",
    "sys.path.append(\"../../data\")\n",
    "import ImShow as I\n",
    "\n",
    "def l21RDAE(X, layers, lamda, folder, learning_rate = 0.15, inner = 100, outer = 10, \n",
    "            batch_size = 133,re_init=False,inputsize = (28,28)):\n",
    "    if not os.path.isdir(folder):\n",
    "        os.makedirs(folder)\n",
    "    os.chdir(folder)\n",
    "    with tf.Graph().as_default():\n",
    "        with tf.Session() as sess:\n",
    "            rael21 = l21RDA.RobustL21Autoencoder(sess = sess, lambda_= lamda*X.shape[0], \n",
    "                                                 layers_sizes=layers)\n",
    "            l21L, l21S = rael21.fit(X = X, sess = sess, inner_iteration = inner, iteration = outer, \n",
    "                                    batch_size = batch_size, learning_rate = learning_rate,  \n",
    "                                    re_init=re_init,verbose = False)\n",
    "            l21R = rael21.getRecon(X = X, sess = sess)\n",
    "            l21H = rael21.transform(X, sess)\n",
    "            Image.fromarray(I.tile_raster_images(X=l21S,img_shape=inputsize, tile_shape=(10, 10),tile_spacing=(1, 1))).save(r\"l21S.png\")\n",
    "            Image.fromarray(I.tile_raster_images(X=l21R,img_shape=inputsize, tile_shape=(10, 10),tile_spacing=(1, 1))).save(r\"l21R.png\")\n",
    "            Image.fromarray(I.tile_raster_images(X=l21L,img_shape=inputsize, tile_shape=(10, 10),tile_spacing=(1, 1))).save(r\"l21L.png\")\n",
    "            l21S.dump(\"l21S.npk\")\n",
    "    os.chdir(\"../\")\n",
    "\n",
    "def compare_frame():\n",
    "\n",
    "    X = np.load(r\"../../data/data.npk\",allow_pickle=True)\n",
    "\n",
    "    inner = 50\n",
    "    outer = 20\n",
    "\n",
    "\n",
    "\n",
    "    lambda_list = [0.0001, 0.0003, 0.0008, 0.001, 0.0015, 0.00035, 0.00045, \n",
    "         0.00055, 0.00065, 0.00075, 0.00085, 0.00095, 0.00105, 0.00115, 0.00125]\n",
    "#     lambda_list = [0.00015,0.00018,0.0002,0.00025,0.00028,0.0003]\n",
    "    print(lambda_list)\n",
    "    \n",
    "    layers = [784, 400, 200] ## S trans\n",
    "    print(\"start\")\n",
    "    start_time = time.time()\n",
    "    image_X = Image.fromarray(I.tile_raster_images(X = X, img_shape = (28,28), tile_shape=(10, 10),tile_spacing=(1, 1)))\n",
    "    image_X.save(r\"X.png\")\n",
    "    for lam in lambda_list:\n",
    "        folder = \"lam\" + str(lam)\n",
    "        l21RDAE(X = X, layers=layers, lamda = lam, folder = folder, learning_rate = 0.001, \n",
    "                inner = inner, outer = outer, batch_size = 133,re_init=True,inputsize = (28,28))\n",
    "        print(\"done: lam\", str(lam))\n",
    "    print (\"Runing time:\" + str(time.time() - start_time) + \" s\")\n",
    "if __name__ == \"__main__\":\n",
    "    compare_frame()\n"
   ]
  },
  {
   "cell_type": "code",
   "execution_count": null,
   "metadata": {},
   "outputs": [],
   "source": []
  }
 ],
 "metadata": {
  "kernelspec": {
   "display_name": "Python 3",
   "language": "python",
   "name": "python3"
  },
  "language_info": {
   "codemirror_mode": {
    "name": "ipython",
    "version": 3
   },
   "file_extension": ".py",
   "mimetype": "text/x-python",
   "name": "python",
   "nbconvert_exporter": "python",
   "pygments_lexer": "ipython3",
   "version": "3.6.9"
  }
 },
 "nbformat": 4,
 "nbformat_minor": 2
}
